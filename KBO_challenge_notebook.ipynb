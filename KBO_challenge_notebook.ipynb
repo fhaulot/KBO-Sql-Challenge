{
 "cells": [
  {
   "cell_type": "markdown",
   "id": "2cf524c4",
   "metadata": {},
   "source": [
    "# Welcome to this notebook! \n",
    "\n",
    "Here, we will be working with the KBO database to perform various SQL queries and analyses. The notebook contains several sections where we will execute SQL commands, manipulate data, and visualize results.\n",
    "\n",
    "Outside of the notebook, we will also be exporting results to CSV files, allowing us to present some charts on powerpoint slides. You will find the slides in the folder.\n",
    "\n",
    "We used others software to read and query the database : table plus, DBeaver and finally installed Database Client as an extension in Visual Studio Code. We used DBeaver a lot to have the schema of the database and to understand how to query it.\n",
    "\n"
   ]
  },
  {
   "cell_type": "code",
   "execution_count": null,
   "id": "739a81cf",
   "metadata": {},
   "outputs": [],
   "source": [
    "# We are using this notebook to make the SQL queries from the KBO database. \n",
    "import sqlite3\n",
    "import pandas as pd\n",
    "\n",
    "db_path = 'kbo_database.db'\n",
    "\n",
    "# Connect to SQLite database (creates the file if it does not exist)\n",
    "connect = sqlite3.connect(db_path)\n",
    "\n",
    "# Create a cursor object\n",
    "cursor = connect.cursor()\n"
   ]
  },
  {
   "cell_type": "markdown",
   "id": "b3d907d6",
   "metadata": {},
   "source": [
    "## 1. Understanding the Database"
   ]
  },
  {
   "cell_type": "code",
   "execution_count": 38,
   "id": "9074500b",
   "metadata": {},
   "outputs": [
    {
     "name": "stdout",
     "output_type": "stream",
     "text": [
      "610.0 - Société à responsabilité limitée: 493384 (42.78%)\n",
      "17.0 - Association sans but lucratif: 139213 (12.07%)\n",
      "70.0 - Association des copropriétaires: 108445 (9.4%)\n",
      "15.0 - Société privée à responsabilité limitée: 86541 (7.5%)\n",
      "14.0 - Société anonyme: 80675 (7.0%)\n",
      "30.0 - Entité étrangère: 67576 (5.86%)\n",
      "612.0 - Société en commandite: 47352 (4.11%)\n",
      "721.0 - Société ou association sans personnalité juridique: 27737 (2.41%)\n",
      "11.0 - Société en nom collectif: 24888 (2.16%)\n",
      "12.0 - Société en commandite simple: 16182 (1.4%)\n"
     ]
    }
   ],
   "source": [
    "\"\"\"\n",
    "Query to get the distribution of companies by juridical form with percentages. First, we used the same technique as in the exercices of \n",
    "Bouman Github. Getting the query in a variable and running it with the cursor.connect \n",
    "\n",
    "This query is about the distribution of companies by juridical form, showing the top 10 forms with their counts and percentages.\"\"\"\n",
    "\n",
    "querypourcentage = \"\"\"\n",
    "WITH grouped AS (\n",
    "SELECT enterprise.JuridicalForm , \n",
    "code.Description, \n",
    "COUNT(*) AS counts\n",
    "FROM enterprise\n",
    "JOIN code ON enterprise.JuridicalForm = code.Code\n",
    "AND code.\"Language\" = 'FR'\n",
    "WHERE code.Category = 'JuridicalForm'\n",
    "GROUP BY enterprise.JuridicalForm\n",
    "ORDER BY COUNT(*) DESC), \n",
    "total AS (\n",
    "SELECT SUM(counts) AS total_count\n",
    "FROM grouped)\n",
    "SELECT grouped.JuridicalForm, \n",
    "grouped.Description, \n",
    "grouped.counts, ROUND(grouped.counts * 100.0 / total.total_count, 2) AS Pourcentage\n",
    "FROM grouped, total\n",
    "ORDER BY Pourcentage DESC\n",
    "LIMIT 10;\n",
    "\"\"\"\n",
    "cursor.execute(querypourcentage)\n",
    "resultpourcentage = cursor.fetchall()\n",
    "for JuridicalFrom, Description, counts, Pourcentage in resultpourcentage:\n",
    "    print(f\"{JuridicalFrom} - {Description}: {counts} ({Pourcentage}%)\")    \n",
    "# We used a loop to get a nice output"
   ]
  },
  {
   "cell_type": "code",
   "execution_count": 39,
   "id": "ccb2fb0a",
   "metadata": {},
   "outputs": [
    {
     "name": "stdout",
     "output_type": "stream",
     "text": [
      "AC: 1926246 companies\n"
     ]
    }
   ],
   "source": [
    "# Query to get the distribution of companies status. Not sure about this one. \n",
    "\n",
    "querystatus = \"\"\"\n",
    "SELECT Status, COUNT(*) AS Counts  \n",
    "FROM enterprise\n",
    "GROUP BY Status\n",
    "LIMIT 10;\n",
    "\"\"\"\n",
    "cursor.execute(querystatus)\n",
    "resultstatus = cursor.fetchall()\n",
    "for Status, Counts in resultstatus:\n",
    "    print(f\"{Status}: {Counts} companies\")"
   ]
  },
  {
   "cell_type": "code",
   "execution_count": 40,
   "id": "caa46eae",
   "metadata": {},
   "outputs": [
    {
     "name": "stdout",
     "output_type": "stream",
     "text": [
      "('ActivityGroup', '001', 'FR', 'Activités TVA')\n",
      "('ActivityGroup', '002', 'FR', 'Activités EDRL')\n",
      "('ActivityGroup', '003', 'FR', 'Activités')\n",
      "('ActivityGroup', '004', 'FR', 'Activités de la fonction publique fédérale')\n",
      "('ActivityGroup', '005', 'FR', 'Activités ONSSAPL')\n",
      "('ActivityGroup', '006', 'FR', 'Activités ONSS')\n",
      "('ActivityGroup', '007', 'FR', \"Activités de l'enseignement subventionné\")\n"
     ]
    }
   ],
   "source": [
    "# Query to get the activity group types in French and see if it is relevant. But we won't use that later.\n",
    "queryactivitygrouptype = \"\"\"SELECT *\n",
    "FROM code\n",
    "WHERE \"Language\" = 'FR' AND \"Category\" = \"ActivityGroup\";\n",
    "\"\"\"\n",
    "cursor.execute(queryactivitygrouptype)\n",
    "result = cursor.fetchall() \n",
    "for row in result:\n",
    "    print(row)"
   ]
  },
  {
   "cell_type": "code",
   "execution_count": null,
   "id": "108a1b2f",
   "metadata": {},
   "outputs": [],
   "source": []
  },
  {
   "cell_type": "code",
   "execution_count": 41,
   "id": "5db75955",
   "metadata": {},
   "outputs": [
    {
     "name": "stdout",
     "output_type": "stream",
     "text": [
      "1960-08-09 - Activités TVA\n",
      "1960-08-09 - Activités TVA\n",
      "1960-08-09 - Activités TVA\n",
      "1923-02-16 - Activités TVA\n",
      "1923-02-16 - Activités TVA\n",
      "1923-02-16 - Activités TVA\n",
      "1923-02-16 - Activités TVA\n",
      "1923-02-16 - Activités TVA\n",
      "1923-02-16 - Activités TVA\n",
      "1923-02-16 - Activités TVA\n"
     ]
    }
   ],
   "source": [
    "# Query to get the activity group types by startdate but only where activity group = 001 and 002\n",
    "queryactivitygroup = \"\"\"\n",
    "SELECT enterprise.date_creation_dt, code.Description\n",
    "FROM enterprise\n",
    "JOIN activity ON activity.EntityNumber = enterprise.EnterpriseNumber\n",
    "JOIN code ON activity.ActivityGroup = code.Code\n",
    "WHERE code.Language = 'FR' \n",
    "  AND code.Category = 'ActivityGroup'\n",
    "  AND (code.Code = '001' OR code.Code = '002')\n",
    "LIMIT 10;\n",
    "\"\"\"\n",
    "cursor.execute(queryactivitygroup)\n",
    "resultactivitygroup = cursor.fetchall()\n",
    "for date_creation_dt, Description in resultactivitygroup:\n",
    "    print(f\"{date_creation_dt} - {Description}\")\n",
    "\n",
    "    "
   ]
  },
  {
   "cell_type": "markdown",
   "id": "735e229e",
   "metadata": {},
   "source": [
    "## 2. Cleaning the Data for further Analysis\n",
    "\n",
    "At this point, we have tested some queries and are ready to proceed with the next steps. We decided to implement the enterprise table in the database with the different columns we need from other tables. Allowing us to have a more complete table with the information we need for our analysis."
   ]
  },
  {
   "cell_type": "code",
   "execution_count": null,
   "id": "ed419b83",
   "metadata": {},
   "outputs": [],
   "source": [
    "# Add Zipcode column to enterprise table if it does not exist. We would like to use zipcode to analyze by province or city. \n",
    "try:\n",
    "    cursor.execute(\"ALTER TABLE enterprise ADD COLUMN Zipcode TEXT\")\n",
    "except sqlite3.OperationalError:\n",
    "    # Column already exists\n",
    "    pass\n",
    "\n",
    "queryaddzipcode = \"\"\"\n",
    "UPDATE enterprise\n",
    "SET Zipcode = (\n",
    "    SELECT address.Zipcode\n",
    "    FROM address\n",
    "    WHERE address.EntityNumber = enterprise.EnterpriseNumber\n",
    ")\n",
    "\"\"\"\n",
    "cursor.execute(queryaddzipcode)\n",
    "connect.commit()\n"
   ]
  },
  {
   "cell_type": "code",
   "execution_count": 43,
   "id": "075426c9",
   "metadata": {},
   "outputs": [],
   "source": [
    "#Adding Province column to enterprise table if it does not exist\n",
    "try:\n",
    "    cursor.execute(\"ALTER TABLE enterprise ADD COLUMN Province TEXT\")\n",
    "except sqlite3.OperationalError:\n",
    "    # Column already exists\n",
    "    pass    \n",
    "queryaddprovince = \"\"\"\n",
    "UPDATE enterprise\n",
    "SET Province = \n",
    "CASE\n",
    "    WHEN ZipCode LIKE '1%' THEN 'Bruxelles'\n",
    "    WHEN ZipCode LIKE '2%' THEN 'Brabant flamand'\n",
    "    WHEN ZipCode LIKE '3%' THEN 'Liège'\n",
    "    WHEN ZipCode LIKE '4%' THEN 'Liège'\n",
    "    WHEN ZipCode LIKE '5%' THEN 'Namur'\n",
    "    WHEN ZipCode LIKE '6%' THEN 'Hainaut'\n",
    "    WHEN ZipCode LIKE '7%' THEN 'Limbourg'\n",
    "    WHEN ZipCode LIKE '8%' THEN 'Flandre orientale'\n",
    "    WHEN ZipCode LIKE '9%' THEN 'Flandre occidentale'\n",
    "    ELSE 'Inconnu'\n",
    "  END;\n",
    "\"\"\"\n",
    "\n",
    "cursor.execute(queryaddprovince)\n",
    "connect.commit()"
   ]
  },
  {
   "cell_type": "markdown",
   "id": "59c38d6c",
   "metadata": {},
   "source": [
    "At this point, we have seen that the zipcode didn't correspond to reality but we wen't far behind (we already had several charts in slides) but Luxembourg didn't appear so we had to update the zipcode column with the correct values. Fortunately, we only had to update the csv and Excel and Powerpoint synch with the new data."
   ]
  },
  {
   "cell_type": "code",
   "execution_count": null,
   "id": "e1aab19b",
   "metadata": {},
   "outputs": [],
   "source": [
    "# We used a really really precise query to update the Province column based on the ZipCode values.\n",
    "# From this moment, we also put directly the sql query in the connect.execute() method.\n",
    "connect.execute(\"\"\"\n",
    "UPDATE horecabasis\n",
    "SET Province =\n",
    "  CASE\n",
    "    WHEN ZipCode BETWEEN 1000 AND 1299 THEN 'Bruxelles-Capitale'\n",
    "\n",
    "    WHEN ZipCode BETWEEN 1300 AND 1499 THEN 'Brabant wallon'\n",
    "    WHEN ZipCode BETWEEN 1500 AND 1999 THEN 'Brabant flamand'\n",
    "    WHEN ZipCode BETWEEN 3000 AND 3499 THEN 'Brabant flamand'\n",
    "\n",
    "    WHEN ZipCode BETWEEN 2000 AND 2999 THEN 'Anvers'\n",
    "\n",
    "    WHEN ZipCode BETWEEN 3500 AND 3999 THEN 'Limbourg'\n",
    "\n",
    "    WHEN ZipCode BETWEEN 4000 AND 4999 THEN 'Liège'\n",
    "\n",
    "    WHEN ZipCode BETWEEN 5000 AND 5999 THEN 'Namur'\n",
    "\n",
    "    WHEN ZipCode BETWEEN 6000 AND 6599 THEN 'Hainaut'\n",
    "    WHEN ZipCode BETWEEN 7000 AND 7999 THEN 'Hainaut'\n",
    "\n",
    "    WHEN ZipCode BETWEEN 6600 AND 6999 THEN 'Luxembourg'\n",
    "\n",
    "    WHEN ZipCode BETWEEN 8000 AND 8999 THEN 'Flandre-Occidentale'\n",
    "\n",
    "    WHEN ZipCode BETWEEN 9000 AND 9999 THEN 'Flandre-Orientale'\n",
    "\n",
    "    ELSE 'Inconnu'\n",
    "  END;\n",
    "\"\"\")\n",
    "connect.commit()"
   ]
  },
  {
   "cell_type": "code",
   "execution_count": 45,
   "id": "2cbcdc5e",
   "metadata": {},
   "outputs": [],
   "source": [
    "# Adding column for the year of creation\n",
    "try:\n",
    "\tcursor.execute(\"ALTER TABLE enterprise ADD COLUMN YearOfCreation INTEGER\")\n",
    "except sqlite3.OperationalError:\n",
    "\t# Column already exists\n",
    "\tpass\n",
    "\n",
    "# Then, update the column with the year extracted from the Date column\n",
    "cursor.execute(\"\"\"\n",
    "UPDATE enterprise\n",
    "SET YearOfCreation = CAST(substr(date_creation_dt, 1, 4) AS INTEGER)\n",
    "WHERE date_creation_dt IS NOT NULL;\n",
    "\"\"\")\n",
    "connect.commit()"
   ]
  },
  {
   "cell_type": "code",
   "execution_count": null,
   "id": "838f739f",
   "metadata": {},
   "outputs": [],
   "source": [
    "# Adding column for the month of creation\n",
    "try:\n",
    "\tcursor.execute(\"ALTER TABLE enterprise ADD COLUMN MonthOfCreation INTEGER\")\n",
    "except sqlite3.OperationalError:\n",
    "\t# Column already exists\n",
    "\tpass\n",
    "\n",
    "# Then, update the column with the month extracted from the Date column\n",
    "cursor.execute(\"\"\"\n",
    "UPDATE enterprise\n",
    "SET MonthOfCreation = CAST(strftime('%m', date_creation_dt) AS INTEGER)\n",
    "WHERE date_creation_dt IS NOT NULL;\n",
    "\"\"\")\n",
    "connect.commit()"
   ]
  },
  {
   "cell_type": "code",
   "execution_count": null,
   "id": "72d1085a",
   "metadata": {},
   "outputs": [],
   "source": [
    "# Add NaceCode column to enterprise table\n",
    "try:\n",
    "    cursor.execute(\"ALTER TABLE enterprise ADD COLUMN Nacecode TEXT\")\n",
    "except sqlite3.OperationalError:\n",
    "    # Column already exists\n",
    "    pass\n",
    "\n",
    "cursor.execute(\"\"\"\n",
    "UPDATE enterprise\n",
    "SET Nacecode = (\n",
    "    SELECT activity.NaceCode\n",
    "    FROM activity\n",
    "    WHERE activity.EntityNumber = enterprise.EnterpriseNumber\n",
    "    LIMIT 1\n",
    ")\n",
    "\"\"\")\n",
    "connect.commit()"
   ]
  },
  {
   "cell_type": "code",
   "execution_count": null,
   "id": "5ff285c0",
   "metadata": {},
   "outputs": [
    {
     "ename": "OperationalError",
     "evalue": "table horecabasis already exists",
     "output_type": "error",
     "traceback": [
      "\u001b[31m---------------------------------------------------------------------------\u001b[39m",
      "\u001b[31mOperationalError\u001b[39m                          Traceback (most recent call last)",
      "\u001b[36mCell\u001b[39m\u001b[36m \u001b[39m\u001b[32mIn[48]\u001b[39m\u001b[32m, line 1\u001b[39m\n\u001b[32m----> \u001b[39m\u001b[32m1\u001b[39m \u001b[43mcursor\u001b[49m\u001b[43m.\u001b[49m\u001b[43mexecute\u001b[49m\u001b[43m(\u001b[49m\u001b[33;43m\"\"\"\u001b[39;49m\n\u001b[32m      2\u001b[39m \u001b[33;43mCREATE TABLE horecabasis AS\u001b[39;49m\n\u001b[32m      3\u001b[39m \u001b[33;43mSELECT * FROM enterprise;\u001b[39;49m\n\u001b[32m      4\u001b[39m \u001b[33;43m\"\"\"\u001b[39;49m\u001b[43m)\u001b[49m\n\u001b[32m      5\u001b[39m connect.commit()\n",
      "\u001b[31mOperationalError\u001b[39m: table horecabasis already exists"
     ]
    }
   ],
   "source": [
    "# Now we create a new table who will be the basis for our Horeca analysis. \n",
    "cursor.execute(\"\"\"\n",
    "CREATE TABLE horecabasis AS\n",
    "SELECT * FROM enterprise;\n",
    "\"\"\")\n",
    "connect.commit()"
   ]
  },
  {
   "cell_type": "code",
   "execution_count": null,
   "id": "1995f7ea",
   "metadata": {},
   "outputs": [],
   "source": [
    "# We preferred to do a copy of the table because we now delete all the rows that doesn't matter meaning \n",
    "# the rows that are not nacecode 55 and 56 (corresponding to horeca activities).\n",
    "cursor.execute(\"\"\"\n",
    "DELETE FROM horecabasis\n",
    "WHERE \n",
    "  NaceCode IS NULL\n",
    "  OR TRIM(NaceCode) = ''\n",
    "  OR substr(NaceCode, 1, 2) NOT IN ('55', '56');\n",
    "\"\"\")\n",
    "connect.commit()"
   ]
  },
  {
   "cell_type": "markdown",
   "id": "4f1e0b81",
   "metadata": {},
   "source": [
    "## 3. Analysis\n",
    "\n",
    "Now we do our query to get the numbers we are interested in. Then we save each results in a CSV to directly work on them in powerpoint."
   ]
  },
  {
   "cell_type": "code",
   "execution_count": null,
   "id": "6b5685ac",
   "metadata": {},
   "outputs": [],
   "source": [
    "# query to get the number of horeca companies created per year \n",
    "numberperyear = pd.read_sql(\"\"\"\n",
    "SELECT \n",
    "YearOfCreation, \n",
    "COUNT(*) AS nb_HORECA_society_created\n",
    "FROM horecabasis\n",
    "GROUP BY YearOfCreation\n",
    "ORDER BY YearOfCreation DESC;\n",
    "\"\"\", connect)\n",
    "\n",
    "# Export CSV\n",
    "numberperyear.to_csv(\"numberperyear.csv\", index=False)"
   ]
  },
  {
   "cell_type": "code",
   "execution_count": null,
   "id": "9f794d59",
   "metadata": {},
   "outputs": [],
   "source": [
    "# query to get the number of horeca companies created by municipality. We limit to 10 descending to have the top 10.\n",
    "\n",
    "byzipcode = pd.read_sql(\"\"\"\n",
    "SELECT Zipcode,\n",
    "  COUNT(*) AS nb_entreprises \n",
    "FROM horecabasis\n",
    "WHERE Zipcode IS NOT NULL\n",
    "  AND TRIM(Zipcode) != ''\n",
    "  AND Zipcode != '0'\n",
    "  AND Zipcode != 'Inconnu'\n",
    "GROUP BY Zipcode\n",
    "ORDER BY nb_entreprises DESC\n",
    "LIMIT 10;\n",
    "\"\"\", connect)\n",
    "# Export CSV\n",
    "byzipcode.to_csv(\"byzipcode.csv\", index=False)"
   ]
  },
  {
   "cell_type": "code",
   "execution_count": null,
   "id": "0b0ffaaa",
   "metadata": {},
   "outputs": [],
   "source": [
    "# This query get the number of companies by decade and province after 1990 because before is irrelevant and make to much noise. \n",
    "\n",
    "annualprovinces = pd.read_sql(\"\"\"\n",
    "SELECT \n",
    "  YearOfCreation,\n",
    "  Province,\n",
    "  COUNT(*) AS nb_entreprises\n",
    "FROM horecabasis\n",
    "WHERE YearOfCreation >= 1990\n",
    "  AND Province NOT LIKE 'Inconnu'\n",
    "GROUP BY YearOfCreation, Province\n",
    "ORDER BY YearOfCreation, Province;\n",
    "\"\"\", connect)\n",
    "annualprovinces[\"by10years\"] = (annualprovinces[\"YearOfCreation\"] // 10) * 10\n",
    "by_decade = annualprovinces.groupby([\"by10years\", \"Province\"])[\"nb_entreprises\"].sum().reset_index()\n",
    "# Export CSV    \n",
    "by_decade.to_csv(\"by_decade_by_provinces.csv\", index=False)"
   ]
  },
  {
   "cell_type": "code",
   "execution_count": null,
   "id": "65d00b59",
   "metadata": {},
   "outputs": [],
   "source": [
    "# This query get the number of companies created by month. \n",
    "\n",
    "monthlyevolution = pd.read_sql(\"\"\"\n",
    "SELECT \n",
    "  MonthOfCreation,\n",
    "  COUNT(*) AS nb_entreprises\n",
    "FROM horecabasis\n",
    "GROUP BY MonthOfCreation\n",
    "ORDER BY MonthOfCreation;\n",
    "\"\"\", connect)\n",
    "# Export CSV\n",
    "monthlyevolution.to_csv(\"monthlyevolution.csv\", index=False)"
   ]
  },
  {
   "cell_type": "code",
   "execution_count": null,
   "id": "86cdc1d6",
   "metadata": {},
   "outputs": [],
   "source": [
    "# This query get the number of active companies by province.\n",
    "\n",
    "presenceinprovinces = pd.read_sql(\"\"\"\n",
    "SELECT  \n",
    "  Province,\n",
    "  COUNT(*) AS nb_entreprises\n",
    "FROM horecabasis\n",
    "WHERE Province IS NOT NULL\n",
    "  AND TRIM(Province) != ''\n",
    "  AND Province != '0'\n",
    "  AND Province != 'Inconnu'\n",
    "GROUP BY Province\n",
    "ORDER BY nb_entreprises DESC;\n",
    "\"\"\", connect)\n",
    "# Export CSV\n",
    "presenceinprovinces.to_csv(\"presenceinprovinces.csv\", index=False)"
   ]
  },
  {
   "cell_type": "markdown",
   "id": "0feeedb8",
   "metadata": {},
   "source": [
    "## 4. Closing Session"
   ]
  },
  {
   "cell_type": "code",
   "execution_count": 50,
   "id": "68552d92",
   "metadata": {},
   "outputs": [],
   "source": [
    "# We close the connection to the database after all operations are done\n",
    "\n",
    "connect.close()"
   ]
  }
 ],
 "metadata": {
  "kernelspec": {
   "display_name": "Python 3",
   "language": "python",
   "name": "python3"
  },
  "language_info": {
   "codemirror_mode": {
    "name": "ipython",
    "version": 3
   },
   "file_extension": ".py",
   "mimetype": "text/x-python",
   "name": "python",
   "nbconvert_exporter": "python",
   "pygments_lexer": "ipython3",
   "version": "3.13.3"
  }
 },
 "nbformat": 4,
 "nbformat_minor": 5
}
